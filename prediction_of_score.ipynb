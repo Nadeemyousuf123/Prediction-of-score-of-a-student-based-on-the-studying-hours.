#!/usr/bin/env python
# coding: utf-8
#GRIPAUG21 Intern in Data Science and Business Analytics
# NADEEM YOUSUF
#Task 1: Prediction using Supervised ML.
# Prediction of a student's percentage based on studying hours
# 

# In[4]:


# Importing all libraries required in this notebook
import pandas as pd
import numpy as np  
import matplotlib.pyplot as plt  
get_ipython().run_line_magic('matplotlib', 'inline')


# In[6]:


#reading data

datafile=pd.read_csv("http://bit.ly/w-data");
print("Data imported successfully")
print(datafile.head(25))


# In[8]:


x=datafile[['Hours']]
print(x.head())


# In[9]:


y=datafile[['Scores']]
print(y.head())


# In[10]:


print(datafile.info())


# In[11]:


print(datafile.describe())


# Let's plot our data points on 2-D graph to eyeball our dataset and see if we can manually find any relationship between the data. We can create the plot with the following script:
# 

# In[20]:


# Plotting the distribution of scores
plt.scatter(x,y)  
plt.title('Hours vs Percentage',fontsize=25)  
plt.xlabel('Hours Studied',fontsize=20)  
plt.ylabel('Percentage Score',fontsize=20)  
plt.show()


# Preparing the data
# 

# In[17]:


from sklearn.model_selection import train_test_split
from sklearn.linear_model import LinearRegression


# Training the Algorithm

# In[19]:


X_train, X_test, y_train, y_test = train_test_split(x, y, 
                            test_size=0.2, random_state=42) 


# In[22]:


X_train.head()


# In[24]:


X_test


# In[26]:


y_train.head()


# In[27]:


y_test


# In[28]:



Reg=LinearRegression()


# In[31]:


Reg.fit(X_train,y_train)
print("training complete")


# In[32]:


y_pred=Reg.predict(X_test)


# In[36]:


#predicting the scores of test data
print(y_pred)


# In[38]:


plt.scatter(X_test, y_test, color='b')
plt.title('Model Visualization',fontsize=25)
plt.xlabel('The Studying hours',fontsize=20)
plt.ylabel('The Score',fontsize=20)
plt.plot(X_test,y_pred,color='r')
plt.show()


# In[40]:


res=Reg.predict([[9.25]])
print("The prediction of Score of a student if he/she studies 9.25 hours/day = {}".format(res))


# In[ ]:




